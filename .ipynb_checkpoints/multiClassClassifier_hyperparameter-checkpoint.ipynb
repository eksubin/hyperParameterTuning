{
 "cells": [
  {
   "cell_type": "code",
   "execution_count": 2,
   "metadata": {},
   "outputs": [],
   "source": [
    "import os\n",
    "daisy_path = \"/home/erattakulangara/Documents/Subin/AI_modules/TuningClassifier/flowers/daisy/\"\n",
    "dandelion_path = \"/home/erattakulangara/Documents/Subin/AI_modules/TuningClassifier/flowers/dandelion/\"\n",
    "rose_path = \"/home/erattakulangara/Documents/Subin/AI_modules/TuningClassifier/flowers/rose/\"\n",
    "sunflower_path = \"/home/erattakulangara/Documents/Subin/AI_modules/TuningClassifier/flowers/sunflower/\"\n",
    "tulip_path = \"/home/erattakulangara/Documents/Subin/AI_modules/TuningClassifier/flowers/tulip/\""
   ]
  },
  {
   "cell_type": "code",
   "execution_count": 3,
   "metadata": {},
   "outputs": [],
   "source": [
    "from os import listdir\n",
    "import cv2\n",
    "\n",
    "\n",
    "\n",
    "img_data = []\n",
    "labels = []\n",
    "\n",
    "size = 128,128\n",
    "def iter_images(images,directory,size,label):\n",
    "    try:\n",
    "        for i in range(len(images)):\n",
    "            img = cv2.imread(directory + images[i])\n",
    "            img = cv2.resize(img,size)\n",
    "            img_data.append(img)\n",
    "            labels.append(label)\n",
    "    except:\n",
    "        pass\n",
    "\n",
    "iter_images(listdir(daisy_path),daisy_path,size,0)\n",
    "iter_images(listdir(dandelion_path),dandelion_path,size,1)\n",
    "iter_images(listdir(rose_path),rose_path,size,2)\n",
    "iter_images(listdir(sunflower_path),sunflower_path,size,3)\n",
    "iter_images(listdir(tulip_path),tulip_path,size,4)"
   ]
  },
  {
   "cell_type": "code",
   "execution_count": 4,
   "metadata": {},
   "outputs": [
    {
     "data": {
      "text/plain": [
       "(3367, 3367)"
      ]
     },
     "execution_count": 4,
     "metadata": {},
     "output_type": "execute_result"
    }
   ],
   "source": [
    "len(img_data),len(labels)"
   ]
  },
  {
   "cell_type": "code",
   "execution_count": 5,
   "metadata": {},
   "outputs": [],
   "source": [
    "import numpy as np\n",
    "data = np.asarray(img_data)\n",
    "\n",
    "#div by 255\n",
    "data = data / 255.0\n",
    "\n",
    "labels = np.asarray(labels)"
   ]
  },
  {
   "cell_type": "code",
   "execution_count": 6,
   "metadata": {},
   "outputs": [
    {
     "data": {
      "text/plain": [
       "((3367, 128, 128, 3), (3367,))"
      ]
     },
     "execution_count": 6,
     "metadata": {},
     "output_type": "execute_result"
    }
   ],
   "source": [
    "data.shape,labels.shape"
   ]
  },
  {
   "cell_type": "code",
   "execution_count": 7,
   "metadata": {},
   "outputs": [],
   "source": [
    "from sklearn.model_selection import train_test_split\n",
    "\n",
    "# Split the data\n",
    "x_train, x_test, y_train, y_test = train_test_split(data, labels, test_size=0.30, shuffle= True)"
   ]
  },
  {
   "cell_type": "code",
   "execution_count": 22,
   "metadata": {},
   "outputs": [],
   "source": [
    "from sklearn.model_selection import train_test_split\n",
    "\n",
    "# Split the data\n",
    "x_train, x_test, y_train, y_test = train_test_split(data, labels, test_size=0.30, shuffle= True)\n",
    "from keras.models import Sequential\n",
    "from keras.layers import Conv2D,MaxPool2D,Flatten,Dense\n",
    "\n",
    "def Classifier(x_train,y_train,x_test,y_test,params):\n",
    "    model = Sequential()\n",
    "    model.add(Conv2D(16, (2,2),input_shape=(128, 128, 3),activation=params['activation']))\n",
    "    model.add(MaxPool2D(pool_size=(2,2)))\n",
    "    model.add(Conv2D(32, (2,2),activation='relu'))\n",
    "    model.add(MaxPool2D(pool_size=(2,2)))\n",
    "    model.add(Flatten())\n",
    "    model.add(Dense(128,activation='relu'))\n",
    "    model.add(Dense(5,activation='softmax'))\n",
    "    model.compile(loss='sparse_categorical_crossentropy',optimizer='adam',metrics=['accuracy'])\n",
    "    batch_size = 128\n",
    "    epochs = 1\n",
    "    out = model.fit(x_train, y_train,\n",
    "          batch_size=params['batch_size'],\n",
    "          epochs=epochs,\n",
    "          validation_data=(x_test, y_test))\n",
    "    return out,model"
   ]
  },
  {
   "cell_type": "code",
   "execution_count": 23,
   "metadata": {},
   "outputs": [],
   "source": [
    "from keras.activations import relu, elu\n",
    "\n",
    "p = {\n",
    "    'first_neuron': [12, 24, 48],\n",
    "    'activation': ['relu', 'elu'],\n",
    "    'batch_size': [10, 20, 30]\n",
    "}"
   ]
  },
  {
   "cell_type": "code",
   "execution_count": 24,
   "metadata": {},
   "outputs": [],
   "source": [
    "import talos"
   ]
  },
  {
   "cell_type": "code",
   "execution_count": 25,
   "metadata": {},
   "outputs": [
    {
     "name": "stderr",
     "output_type": "stream",
     "text": [
      "\n",
      "\n",
      "  0%|          | 0/18 [00:00<?, ?it/s]\u001b[A\u001b[A"
     ]
    },
    {
     "name": "stdout",
     "output_type": "stream",
     "text": [
      "Train on 1649 samples, validate on 707 samples\n",
      "Epoch 1/1\n",
      "1649/1649 [==============================] - 6s 3ms/step - loss: 1.1465 - accuracy: 0.5476 - val_loss: 1.0857 - val_accuracy: 0.5856\n"
     ]
    },
    {
     "name": "stderr",
     "output_type": "stream",
     "text": [
      "\n",
      "\n",
      "  6%|▌         | 1/18 [00:06<01:46,  6.25s/it]\u001b[A\u001b[A"
     ]
    },
    {
     "name": "stdout",
     "output_type": "stream",
     "text": [
      "Train on 1649 samples, validate on 707 samples\n",
      "Epoch 1/1\n",
      "1649/1649 [==============================] - 6s 3ms/step - loss: 1.2325 - accuracy: 0.5240 - val_loss: 1.0625 - val_accuracy: 0.5573\n"
     ]
    },
    {
     "name": "stderr",
     "output_type": "stream",
     "text": [
      "\n",
      "\n",
      " 11%|█         | 2/18 [00:12<01:39,  6.22s/it]\u001b[A\u001b[A"
     ]
    },
    {
     "name": "stdout",
     "output_type": "stream",
     "text": [
      "Train on 1649 samples, validate on 707 samples\n",
      "Epoch 1/1\n",
      "1649/1649 [==============================] - 6s 3ms/step - loss: 1.3387 - accuracy: 0.5246 - val_loss: 1.0796 - val_accuracy: 0.5629\n"
     ]
    },
    {
     "name": "stderr",
     "output_type": "stream",
     "text": [
      "\n",
      "\n",
      " 17%|█▋        | 3/18 [00:18<01:32,  6.19s/it]\u001b[A\u001b[A"
     ]
    },
    {
     "name": "stdout",
     "output_type": "stream",
     "text": [
      "Train on 1649 samples, validate on 707 samples\n",
      "Epoch 1/1\n",
      "1649/1649 [==============================] - 4s 3ms/step - loss: 1.4400 - accuracy: 0.4597 - val_loss: 1.1179 - val_accuracy: 0.5092\n"
     ]
    },
    {
     "name": "stderr",
     "output_type": "stream",
     "text": [
      "\n",
      "\n",
      " 22%|██▏       | 4/18 [00:23<01:20,  5.72s/it]\u001b[A\u001b[A"
     ]
    },
    {
     "name": "stdout",
     "output_type": "stream",
     "text": [
      "Train on 1649 samples, validate on 707 samples\n",
      "Epoch 1/1\n",
      "1649/1649 [==============================] - 4s 3ms/step - loss: 1.2752 - accuracy: 0.5185 - val_loss: 1.0094 - val_accuracy: 0.5969\n"
     ]
    },
    {
     "name": "stderr",
     "output_type": "stream",
     "text": [
      "\n",
      "\n",
      " 28%|██▊       | 5/18 [00:27<01:10,  5.38s/it]\u001b[A\u001b[A"
     ]
    },
    {
     "name": "stdout",
     "output_type": "stream",
     "text": [
      "Train on 1649 samples, validate on 707 samples\n",
      "Epoch 1/1\n",
      "1649/1649 [==============================] - 4s 3ms/step - loss: 1.3407 - accuracy: 0.5373 - val_loss: 0.9681 - val_accuracy: 0.6407\n"
     ]
    },
    {
     "name": "stderr",
     "output_type": "stream",
     "text": [
      "\n",
      "\n",
      " 33%|███▎      | 6/18 [00:32<01:01,  5.15s/it]\u001b[A\u001b[A"
     ]
    },
    {
     "name": "stdout",
     "output_type": "stream",
     "text": [
      "Train on 1649 samples, validate on 707 samples\n",
      "Epoch 1/1\n",
      "1649/1649 [==============================] - 4s 2ms/step - loss: 1.3663 - accuracy: 0.4779 - val_loss: 1.0541 - val_accuracy: 0.5658\n"
     ]
    },
    {
     "name": "stderr",
     "output_type": "stream",
     "text": [
      "\n",
      "\n",
      " 39%|███▉      | 7/18 [00:36<00:53,  4.82s/it]\u001b[A\u001b[A"
     ]
    },
    {
     "name": "stdout",
     "output_type": "stream",
     "text": [
      "Train on 1649 samples, validate on 707 samples\n",
      "Epoch 1/1\n",
      "1649/1649 [==============================] - 4s 2ms/step - loss: 1.2613 - accuracy: 0.4851 - val_loss: 1.0451 - val_accuracy: 0.5983\n"
     ]
    },
    {
     "name": "stderr",
     "output_type": "stream",
     "text": [
      "\n",
      "\n",
      " 44%|████▍     | 8/18 [00:40<00:45,  4.58s/it]\u001b[A\u001b[A"
     ]
    },
    {
     "name": "stdout",
     "output_type": "stream",
     "text": [
      "Train on 1649 samples, validate on 707 samples\n",
      "Epoch 1/1\n",
      "1649/1649 [==============================] - 4s 2ms/step - loss: 1.5519 - accuracy: 0.4221 - val_loss: 1.1342 - val_accuracy: 0.5403\n"
     ]
    },
    {
     "name": "stderr",
     "output_type": "stream",
     "text": [
      "\n",
      "\n",
      " 50%|█████     | 9/18 [00:44<00:39,  4.42s/it]\u001b[A\u001b[A"
     ]
    },
    {
     "name": "stdout",
     "output_type": "stream",
     "text": [
      "Train on 1649 samples, validate on 707 samples\n",
      "Epoch 1/1\n",
      "1649/1649 [==============================] - 6s 4ms/step - loss: 1.2098 - accuracy: 0.5161 - val_loss: 1.0873 - val_accuracy: 0.5785\n"
     ]
    },
    {
     "name": "stderr",
     "output_type": "stream",
     "text": [
      "\n",
      "\n",
      " 56%|█████▌    | 10/18 [00:50<00:40,  5.01s/it]\u001b[A\u001b[A"
     ]
    },
    {
     "name": "stdout",
     "output_type": "stream",
     "text": [
      "Train on 1649 samples, validate on 707 samples\n",
      "Epoch 1/1\n",
      "1649/1649 [==============================] - 6s 4ms/step - loss: 1.2573 - accuracy: 0.5191 - val_loss: 1.2731 - val_accuracy: 0.5050\n"
     ]
    },
    {
     "name": "stderr",
     "output_type": "stream",
     "text": [
      "\n",
      "\n",
      " 61%|██████    | 11/18 [00:57<00:37,  5.41s/it]\u001b[A\u001b[A"
     ]
    },
    {
     "name": "stdout",
     "output_type": "stream",
     "text": [
      "Train on 1649 samples, validate on 707 samples\n",
      "Epoch 1/1\n",
      "1649/1649 [==============================] - 6s 4ms/step - loss: 1.1824 - accuracy: 0.5337 - val_loss: 0.9899 - val_accuracy: 0.5969\n"
     ]
    },
    {
     "name": "stderr",
     "output_type": "stream",
     "text": [
      "\n",
      "\n",
      " 67%|██████▋   | 12/18 [01:03<00:34,  5.70s/it]\u001b[A\u001b[A"
     ]
    },
    {
     "name": "stdout",
     "output_type": "stream",
     "text": [
      "Train on 1649 samples, validate on 707 samples\n",
      "Epoch 1/1\n",
      "1649/1649 [==============================] - 4s 3ms/step - loss: 1.3599 - accuracy: 0.4906 - val_loss: 1.0023 - val_accuracy: 0.6195\n"
     ]
    },
    {
     "name": "stderr",
     "output_type": "stream",
     "text": [
      "\n",
      "\n",
      " 72%|███████▏  | 13/18 [01:08<00:27,  5.46s/it]\u001b[A\u001b[A"
     ]
    },
    {
     "name": "stdout",
     "output_type": "stream",
     "text": [
      "Train on 1649 samples, validate on 707 samples\n",
      "Epoch 1/1\n",
      "1649/1649 [==============================] - 4s 3ms/step - loss: 1.5600 - accuracy: 0.4797 - val_loss: 1.1000 - val_accuracy: 0.5516\n"
     ]
    },
    {
     "name": "stderr",
     "output_type": "stream",
     "text": [
      "\n",
      "\n",
      " 78%|███████▊  | 14/18 [01:13<00:21,  5.28s/it]\u001b[A\u001b[A"
     ]
    },
    {
     "name": "stdout",
     "output_type": "stream",
     "text": [
      "Train on 1649 samples, validate on 707 samples\n",
      "Epoch 1/1\n",
      "1649/1649 [==============================] - 4s 3ms/step - loss: 1.3000 - accuracy: 0.4645 - val_loss: 1.0660 - val_accuracy: 0.5587\n"
     ]
    },
    {
     "name": "stderr",
     "output_type": "stream",
     "text": [
      "\n",
      "\n",
      " 83%|████████▎ | 15/18 [01:18<00:15,  5.16s/it]\u001b[A\u001b[A"
     ]
    },
    {
     "name": "stdout",
     "output_type": "stream",
     "text": [
      "Train on 1649 samples, validate on 707 samples\n",
      "Epoch 1/1\n",
      "1649/1649 [==============================] - 4s 2ms/step - loss: 1.3333 - accuracy: 0.4961 - val_loss: 1.0147 - val_accuracy: 0.5884\n"
     ]
    },
    {
     "name": "stderr",
     "output_type": "stream",
     "text": [
      "\n",
      "\n",
      " 89%|████████▉ | 16/18 [01:22<00:09,  4.90s/it]\u001b[A\u001b[A"
     ]
    },
    {
     "name": "stdout",
     "output_type": "stream",
     "text": [
      "Train on 1649 samples, validate on 707 samples\n",
      "Epoch 1/1\n",
      "1649/1649 [==============================] - 4s 2ms/step - loss: 1.6342 - accuracy: 0.4397 - val_loss: 1.0863 - val_accuracy: 0.5813\n"
     ]
    },
    {
     "name": "stderr",
     "output_type": "stream",
     "text": [
      "\n",
      "\n",
      " 94%|█████████▍| 17/18 [01:26<00:04,  4.72s/it]\u001b[A\u001b[A"
     ]
    },
    {
     "name": "stdout",
     "output_type": "stream",
     "text": [
      "Train on 1649 samples, validate on 707 samples\n",
      "Epoch 1/1\n",
      "1649/1649 [==============================] - 4s 2ms/step - loss: 1.5051 - accuracy: 0.4688 - val_loss: 1.0211 - val_accuracy: 0.5941\n"
     ]
    },
    {
     "name": "stderr",
     "output_type": "stream",
     "text": [
      "\n",
      "\n",
      "100%|██████████| 18/18 [01:31<00:00,  4.59s/it]\u001b[A\u001b[A"
     ]
    }
   ],
   "source": [
    "t = talos.Scan(x=x_train, y=y_train, params=p, model=Classifier, experiment_name='Classifier')"
   ]
  },
  {
   "cell_type": "markdown",
   "metadata": {},
   "source": [
    "# analyzing the result"
   ]
  },
  {
   "cell_type": "code",
   "execution_count": 29,
   "metadata": {},
   "outputs": [
    {
     "data": {
      "text/plain": [
       "experiment_name                 Classifier\n",
       "random_method             uniform_mersenne\n",
       "reduction_method                      None\n",
       "reduction_interval                      50\n",
       "reduction_window                        20\n",
       "reduction_threshold                    0.2\n",
       "reduction_metric                   val_acc\n",
       "complete_time               03/30/20/10:27\n",
       "x_shape                (2356, 128, 128, 3)\n",
       "y_shape                            (2356,)\n",
       "dtype: object"
      ]
     },
     "execution_count": 29,
     "metadata": {},
     "output_type": "execute_result"
    }
   ],
   "source": [
    "# accessing the results data frame\n",
    "t.data.head()\n",
    "\n",
    "# accessing epoch entropy values for each round\n",
    "t.learning_entropy\n",
    "\n",
    "# access the summary details\n",
    "t.details"
   ]
  },
  {
   "cell_type": "code",
   "execution_count": 31,
   "metadata": {},
   "outputs": [],
   "source": [
    "# use Scan object as input\n",
    "analyze_object = talos.Analyze(t)"
   ]
  },
  {
   "cell_type": "code",
   "execution_count": 32,
   "metadata": {},
   "outputs": [
    {
     "data": {
      "text/html": [
       "<div>\n",
       "<style scoped>\n",
       "    .dataframe tbody tr th:only-of-type {\n",
       "        vertical-align: middle;\n",
       "    }\n",
       "\n",
       "    .dataframe tbody tr th {\n",
       "        vertical-align: top;\n",
       "    }\n",
       "\n",
       "    .dataframe thead th {\n",
       "        text-align: right;\n",
       "    }\n",
       "</style>\n",
       "<table border=\"1\" class=\"dataframe\">\n",
       "  <thead>\n",
       "    <tr style=\"text-align: right;\">\n",
       "      <th></th>\n",
       "      <th>round_epochs</th>\n",
       "      <th>val_loss</th>\n",
       "      <th>val_accuracy</th>\n",
       "      <th>loss</th>\n",
       "      <th>accuracy</th>\n",
       "      <th>activation</th>\n",
       "      <th>batch_size</th>\n",
       "      <th>first_neuron</th>\n",
       "    </tr>\n",
       "  </thead>\n",
       "  <tbody>\n",
       "    <tr>\n",
       "      <th>0</th>\n",
       "      <td>1</td>\n",
       "      <td>1.085669</td>\n",
       "      <td>0.585573</td>\n",
       "      <td>1.146517</td>\n",
       "      <td>0.547605</td>\n",
       "      <td>relu</td>\n",
       "      <td>10</td>\n",
       "      <td>12</td>\n",
       "    </tr>\n",
       "    <tr>\n",
       "      <th>1</th>\n",
       "      <td>1</td>\n",
       "      <td>1.062541</td>\n",
       "      <td>0.557284</td>\n",
       "      <td>1.232457</td>\n",
       "      <td>0.523954</td>\n",
       "      <td>relu</td>\n",
       "      <td>10</td>\n",
       "      <td>24</td>\n",
       "    </tr>\n",
       "    <tr>\n",
       "      <th>2</th>\n",
       "      <td>1</td>\n",
       "      <td>1.079638</td>\n",
       "      <td>0.562942</td>\n",
       "      <td>1.338662</td>\n",
       "      <td>0.524560</td>\n",
       "      <td>relu</td>\n",
       "      <td>10</td>\n",
       "      <td>48</td>\n",
       "    </tr>\n",
       "    <tr>\n",
       "      <th>3</th>\n",
       "      <td>1</td>\n",
       "      <td>1.117891</td>\n",
       "      <td>0.509194</td>\n",
       "      <td>1.440023</td>\n",
       "      <td>0.459673</td>\n",
       "      <td>relu</td>\n",
       "      <td>20</td>\n",
       "      <td>12</td>\n",
       "    </tr>\n",
       "    <tr>\n",
       "      <th>4</th>\n",
       "      <td>1</td>\n",
       "      <td>1.009433</td>\n",
       "      <td>0.596888</td>\n",
       "      <td>1.275187</td>\n",
       "      <td>0.518496</td>\n",
       "      <td>relu</td>\n",
       "      <td>20</td>\n",
       "      <td>24</td>\n",
       "    </tr>\n",
       "    <tr>\n",
       "      <th>5</th>\n",
       "      <td>1</td>\n",
       "      <td>0.968056</td>\n",
       "      <td>0.640736</td>\n",
       "      <td>1.340662</td>\n",
       "      <td>0.537295</td>\n",
       "      <td>relu</td>\n",
       "      <td>20</td>\n",
       "      <td>48</td>\n",
       "    </tr>\n",
       "    <tr>\n",
       "      <th>6</th>\n",
       "      <td>1</td>\n",
       "      <td>1.054130</td>\n",
       "      <td>0.565771</td>\n",
       "      <td>1.366250</td>\n",
       "      <td>0.477865</td>\n",
       "      <td>relu</td>\n",
       "      <td>30</td>\n",
       "      <td>12</td>\n",
       "    </tr>\n",
       "    <tr>\n",
       "      <th>7</th>\n",
       "      <td>1</td>\n",
       "      <td>1.045111</td>\n",
       "      <td>0.598303</td>\n",
       "      <td>1.261290</td>\n",
       "      <td>0.485142</td>\n",
       "      <td>relu</td>\n",
       "      <td>30</td>\n",
       "      <td>24</td>\n",
       "    </tr>\n",
       "    <tr>\n",
       "      <th>8</th>\n",
       "      <td>1</td>\n",
       "      <td>1.134171</td>\n",
       "      <td>0.540311</td>\n",
       "      <td>1.551937</td>\n",
       "      <td>0.422074</td>\n",
       "      <td>relu</td>\n",
       "      <td>30</td>\n",
       "      <td>48</td>\n",
       "    </tr>\n",
       "    <tr>\n",
       "      <th>9</th>\n",
       "      <td>1</td>\n",
       "      <td>1.087262</td>\n",
       "      <td>0.578501</td>\n",
       "      <td>1.209776</td>\n",
       "      <td>0.516070</td>\n",
       "      <td>elu</td>\n",
       "      <td>10</td>\n",
       "      <td>12</td>\n",
       "    </tr>\n",
       "    <tr>\n",
       "      <th>10</th>\n",
       "      <td>1</td>\n",
       "      <td>1.273078</td>\n",
       "      <td>0.504951</td>\n",
       "      <td>1.257333</td>\n",
       "      <td>0.519103</td>\n",
       "      <td>elu</td>\n",
       "      <td>10</td>\n",
       "      <td>24</td>\n",
       "    </tr>\n",
       "    <tr>\n",
       "      <th>11</th>\n",
       "      <td>1</td>\n",
       "      <td>0.989923</td>\n",
       "      <td>0.596888</td>\n",
       "      <td>1.182358</td>\n",
       "      <td>0.533657</td>\n",
       "      <td>elu</td>\n",
       "      <td>10</td>\n",
       "      <td>48</td>\n",
       "    </tr>\n",
       "    <tr>\n",
       "      <th>12</th>\n",
       "      <td>1</td>\n",
       "      <td>1.002266</td>\n",
       "      <td>0.619519</td>\n",
       "      <td>1.359868</td>\n",
       "      <td>0.490600</td>\n",
       "      <td>elu</td>\n",
       "      <td>20</td>\n",
       "      <td>12</td>\n",
       "    </tr>\n",
       "    <tr>\n",
       "      <th>13</th>\n",
       "      <td>1</td>\n",
       "      <td>1.100006</td>\n",
       "      <td>0.551627</td>\n",
       "      <td>1.560047</td>\n",
       "      <td>0.479685</td>\n",
       "      <td>elu</td>\n",
       "      <td>20</td>\n",
       "      <td>24</td>\n",
       "    </tr>\n",
       "    <tr>\n",
       "      <th>14</th>\n",
       "      <td>1</td>\n",
       "      <td>1.066028</td>\n",
       "      <td>0.558699</td>\n",
       "      <td>1.300043</td>\n",
       "      <td>0.464524</td>\n",
       "      <td>elu</td>\n",
       "      <td>20</td>\n",
       "      <td>48</td>\n",
       "    </tr>\n",
       "    <tr>\n",
       "      <th>15</th>\n",
       "      <td>1</td>\n",
       "      <td>1.014685</td>\n",
       "      <td>0.588402</td>\n",
       "      <td>1.333313</td>\n",
       "      <td>0.496058</td>\n",
       "      <td>elu</td>\n",
       "      <td>30</td>\n",
       "      <td>12</td>\n",
       "    </tr>\n",
       "    <tr>\n",
       "      <th>16</th>\n",
       "      <td>1</td>\n",
       "      <td>1.086278</td>\n",
       "      <td>0.581330</td>\n",
       "      <td>1.634246</td>\n",
       "      <td>0.439660</td>\n",
       "      <td>elu</td>\n",
       "      <td>30</td>\n",
       "      <td>24</td>\n",
       "    </tr>\n",
       "    <tr>\n",
       "      <th>17</th>\n",
       "      <td>1</td>\n",
       "      <td>1.021053</td>\n",
       "      <td>0.594059</td>\n",
       "      <td>1.505129</td>\n",
       "      <td>0.468769</td>\n",
       "      <td>elu</td>\n",
       "      <td>30</td>\n",
       "      <td>48</td>\n",
       "    </tr>\n",
       "  </tbody>\n",
       "</table>\n",
       "</div>"
      ],
      "text/plain": [
       "    round_epochs  val_loss  val_accuracy      loss  accuracy activation  \\\n",
       "0              1  1.085669      0.585573  1.146517  0.547605       relu   \n",
       "1              1  1.062541      0.557284  1.232457  0.523954       relu   \n",
       "2              1  1.079638      0.562942  1.338662  0.524560       relu   \n",
       "3              1  1.117891      0.509194  1.440023  0.459673       relu   \n",
       "4              1  1.009433      0.596888  1.275187  0.518496       relu   \n",
       "5              1  0.968056      0.640736  1.340662  0.537295       relu   \n",
       "6              1  1.054130      0.565771  1.366250  0.477865       relu   \n",
       "7              1  1.045111      0.598303  1.261290  0.485142       relu   \n",
       "8              1  1.134171      0.540311  1.551937  0.422074       relu   \n",
       "9              1  1.087262      0.578501  1.209776  0.516070        elu   \n",
       "10             1  1.273078      0.504951  1.257333  0.519103        elu   \n",
       "11             1  0.989923      0.596888  1.182358  0.533657        elu   \n",
       "12             1  1.002266      0.619519  1.359868  0.490600        elu   \n",
       "13             1  1.100006      0.551627  1.560047  0.479685        elu   \n",
       "14             1  1.066028      0.558699  1.300043  0.464524        elu   \n",
       "15             1  1.014685      0.588402  1.333313  0.496058        elu   \n",
       "16             1  1.086278      0.581330  1.634246  0.439660        elu   \n",
       "17             1  1.021053      0.594059  1.505129  0.468769        elu   \n",
       "\n",
       "    batch_size  first_neuron  \n",
       "0           10            12  \n",
       "1           10            24  \n",
       "2           10            48  \n",
       "3           20            12  \n",
       "4           20            24  \n",
       "5           20            48  \n",
       "6           30            12  \n",
       "7           30            24  \n",
       "8           30            48  \n",
       "9           10            12  \n",
       "10          10            24  \n",
       "11          10            48  \n",
       "12          20            12  \n",
       "13          20            24  \n",
       "14          20            48  \n",
       "15          30            12  \n",
       "16          30            24  \n",
       "17          30            48  "
      ]
     },
     "execution_count": 32,
     "metadata": {},
     "output_type": "execute_result"
    }
   ],
   "source": [
    "# access the dataframe with the results\n",
    "analyze_object.data"
   ]
  },
  {
   "cell_type": "code",
   "execution_count": 36,
   "metadata": {},
   "outputs": [
    {
     "data": {
      "text/plain": [
       "round_epochs         NaN\n",
       "val_accuracy   -0.861651\n",
       "accuracy       -0.199739\n",
       "batch_size     -0.226296\n",
       "first_neuron   -0.161820\n",
       "Name: val_loss, dtype: float64"
      ]
     },
     "execution_count": 36,
     "metadata": {},
     "output_type": "execute_result"
    }
   ],
   "source": [
    "# get the number of rounds in the Scan\n",
    "analyze_object.rounds()\n",
    "\n",
    "# get the highest result for any metric\n",
    "analyze_object.high('val_accuracy')\n",
    "\n",
    "# get the round with the best result\n",
    "analyze_object.rounds2high('val_accuracy')\n",
    "\n",
    "# get the best paramaters\n",
    "analyze_object.best_params('val_accuracy', ['acc', 'loss', 'val_loss'])\n",
    "\n",
    "# get correlation for hyperparameters against a metric\n",
    "analyze_object.correlate('val_loss', ['acc', 'loss', 'val_loss'])"
   ]
  },
  {
   "cell_type": "code",
   "execution_count": 39,
   "metadata": {},
   "outputs": [
    {
     "data": {
      "image/png": "[encoded data removed]",
      "text/plain": [
       "<Figure size 720x475.2 with 1 Axes>"
      ]
     },
     "metadata": {},
     "output_type": "display_data"
    },
    {
     "data": {
      "image/png": "[encoded data removed]",
      "text/plain": [
       "<Figure size 864x475.2 with 1 Axes>"
      ]
     },
     "metadata": {},
     "output_type": "display_data"
    },
    {
     "data": {
      "image/png": "[encoded data removed]",
      "text/plain": [
       "<Figure size 720x475.2 with 1 Axes>"
      ]
     },
     "metadata": {},
     "output_type": "display_data"
    },
    {
     "data": {
      "image/png": "[encoded data removed]",
      "text/plain": [
       "<Figure size 720x475.2 with 1 Axes>"
      ]
     },
     "metadata": {},
     "output_type": "display_data"
    },
    {
     "data": {
      "image/png": "[encoded data removed]",
      "text/plain": [
       "<Figure size 612x612 with 2 Axes>"
      ]
     },
     "metadata": {},
     "output_type": "display_data"
    }
   ],
   "source": [
    "\n",
    "# a regression plot for two dimensions \n",
    "analyze_object.plot_regs('val_accuracy', 'val_loss')\n",
    "\n",
    "# line plot\n",
    "analyze_object.plot_line('val_accuracy')\n",
    "\n",
    "# up to two dimensional kernel density estimator\n",
    "analyze_object.plot_kde('val_accuracy')\n",
    "\n",
    "# a simple histogram\n",
    "analyze_object.plot_hist('val_accuracy', bins=50)\n",
    "\n",
    "# heatmap correlation\n",
    "analyze_object.plot_corr('val_loss', ['acc', 'loss', 'val_loss'])\n"
   ]
  },
  {
   "cell_type": "code",
   "execution_count": 13,
   "metadata": {},
   "outputs": [
    {
     "name": "stdout",
     "output_type": "stream",
     "text": [
      "0 ==> 0\n",
      "3 ==> 0\n",
      "0 ==> 0\n",
      "3 ==> 4\n",
      "3 ==> 4\n",
      "3 ==> 2\n",
      "0 ==> 0\n",
      "2 ==> 2\n",
      "0 ==> 2\n",
      "3 ==> 3\n"
     ]
    }
   ],
   "source": [
    "pred = model.predict_classes(x_test[:10])\n",
    "\n",
    "for i in range(len(pred)):\n",
    "    print(pred[i],'==>',y_test[i])"
   ]
  },
  {
   "cell_type": "code",
   "execution_count": null,
   "metadata": {},
   "outputs": [],
   "source": []
  }
 ],
 "metadata": {
  "kernelspec": {
   "display_name": "Python 3",
   "language": "python",
   "name": "python3"
  },
  "language_info": {
   "codemirror_mode": {
    "name": "ipython",
    "version": 3
   },
   "file_extension": ".py",
   "mimetype": "text/x-python",
   "name": "python",
   "nbconvert_exporter": "python",
   "pygments_lexer": "ipython3",
   "version": "3.7.3"
  }
 },
 "nbformat": 4,
 "nbformat_minor": 2
}
