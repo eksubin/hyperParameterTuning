{
 "cells": [
  {
   "cell_type": "code",
   "execution_count": 8,
   "metadata": {},
   "outputs": [],
   "source": [
    "import os\n",
    "#daisy_path = \"/home/erattakulangara/Documents/Subin/AI_modules/TuningClassifier/flowers/daisy/\"\n",
    "#dandelion_path = \"/home/erattakulangara/Documents/Subin/AI_modules/TuningClassifier/flowers/dandelion/\"\n",
    "#rose_path = \"/home/erattakulangara/Documents/Subin/AI_modules/TuningClassifier/flowers/rose/\"\n",
    "#sunflower_path = \"/home/erattakulangara/Documents/Subin/AI_modules/TuningClassifier/flowers/sunflower/\"\n",
    "#tulip_path = \"/home/erattakulangara/Documents/Subin/AI_modules/TuningClassifier/flowers/tulip/\""
   ]
  },
  {
   "cell_type": "code",
   "execution_count": 11,
   "metadata": {},
   "outputs": [],
   "source": [
    "CLL_path = \"/home/erattakulangara/Documents/Subin/AI_modules/TuningClassifier/lymphoma/CLL/\"\n",
    "FL_path = \"/home/erattakulangara/Documents/Subin/AI_modules/TuningClassifier/lymphoma/FL/\"\n",
    "MCL_path = \"/home/erattakulangara/Documents/Subin/AI_modules/TuningClassifier/lymphoma/MCL/\""
   ]
  },
  {
   "cell_type": "code",
   "execution_count": 12,
   "metadata": {},
   "outputs": [],
   "source": [
    "from os import listdir\n",
    "import cv2\n",
    "\n",
    "\n",
    "\n",
    "img_data = []\n",
    "labels = []\n",
    "\n",
    "size = 128,128\n",
    "def iter_images(images,directory,size,label):\n",
    "    try:\n",
    "        for i in range(len(images)):\n",
    "            img = cv2.imread(directory + images[i])\n",
    "            img = cv2.resize(img,size)\n",
    "            img_data.append(img)\n",
    "            labels.append(label)\n",
    "    except:\n",
    "        pass\n",
    "\n",
    "iter_images(listdir(CLL_path),CLL_path,size,0)\n",
    "iter_images(listdir(FL_path),FL_path,size,1)\n",
    "iter_images(listdir(MCL_path),MCL_path,size,2)"
   ]
  },
  {
   "cell_type": "code",
   "execution_count": 13,
   "metadata": {},
   "outputs": [
    {
     "data": {
      "text/plain": [
       "(245, 245)"
      ]
     },
     "execution_count": 13,
     "metadata": {},
     "output_type": "execute_result"
    }
   ],
   "source": [
    "len(img_data),len(labels)"
   ]
  },
  {
   "cell_type": "code",
   "execution_count": 14,
   "metadata": {},
   "outputs": [],
   "source": [
    "import numpy as np\n",
    "data = np.asarray(img_data)\n",
    "\n",
    "#div by 255\n",
    "data = data / 255.0\n",
    "\n",
    "labels = np.asarray(labels)"
   ]
  },
  {
   "cell_type": "code",
   "execution_count": 15,
   "metadata": {},
   "outputs": [
    {
     "data": {
      "text/plain": [
       "((245, 128, 128, 3), (245,))"
      ]
     },
     "execution_count": 15,
     "metadata": {},
     "output_type": "execute_result"
    }
   ],
   "source": [
    "data.shape,labels.shape"
   ]
  },
  {
   "cell_type": "code",
   "execution_count": 33,
   "metadata": {},
   "outputs": [],
   "source": [
    "from sklearn.model_selection import train_test_split\n",
    "\n",
    "# Split the data\n",
    "x_train, x_test, y_train, y_test = train_test_split(data, labels, test_size=0.30, shuffle= True, random_state = 1)"
   ]
  },
  {
   "cell_type": "code",
   "execution_count": 35,
   "metadata": {},
   "outputs": [
    {
     "name": "stdout",
     "output_type": "stream",
     "text": [
      "Train on 171 samples, validate on 74 samples\n",
      "Epoch 1/25\n",
      "171/171 [==============================] - 0s 3ms/step - loss: 1.4259 - accuracy: 0.1404 - val_loss: 2.7154 - val_accuracy: 0.4730\n",
      "Epoch 2/25\n",
      "171/171 [==============================] - 0s 2ms/step - loss: 2.0818 - accuracy: 0.4561 - val_loss: 1.9148 - val_accuracy: 0.4459\n",
      "Epoch 3/25\n",
      "171/171 [==============================] - 0s 2ms/step - loss: 1.3838 - accuracy: 0.5205 - val_loss: 1.6662 - val_accuracy: 0.4459\n",
      "Epoch 4/25\n",
      "171/171 [==============================] - 0s 2ms/step - loss: 1.0591 - accuracy: 0.5205 - val_loss: 1.1155 - val_accuracy: 0.4730\n",
      "Epoch 5/25\n",
      "171/171 [==============================] - 0s 2ms/step - loss: 0.8885 - accuracy: 0.4561 - val_loss: 1.0876 - val_accuracy: 0.4730\n",
      "Epoch 6/25\n",
      "171/171 [==============================] - 0s 2ms/step - loss: 0.9054 - accuracy: 0.4561 - val_loss: 0.9368 - val_accuracy: 0.5405\n",
      "Epoch 7/25\n",
      "171/171 [==============================] - 0s 2ms/step - loss: 0.7808 - accuracy: 0.5848 - val_loss: 0.9646 - val_accuracy: 0.4459\n",
      "Epoch 8/25\n",
      "171/171 [==============================] - 0s 2ms/step - loss: 0.8102 - accuracy: 0.5205 - val_loss: 0.9671 - val_accuracy: 0.4459\n",
      "Epoch 9/25\n",
      "171/171 [==============================] - 0s 2ms/step - loss: 0.7891 - accuracy: 0.5439 - val_loss: 0.9262 - val_accuracy: 0.6351\n",
      "Epoch 10/25\n",
      "171/171 [==============================] - 0s 2ms/step - loss: 0.7367 - accuracy: 0.6608 - val_loss: 0.9522 - val_accuracy: 0.6081\n",
      "Epoch 11/25\n",
      "171/171 [==============================] - 0s 2ms/step - loss: 0.6982 - accuracy: 0.6608 - val_loss: 0.9942 - val_accuracy: 0.5270\n",
      "Epoch 12/25\n",
      "171/171 [==============================] - 0s 2ms/step - loss: 0.6583 - accuracy: 0.7310 - val_loss: 0.9694 - val_accuracy: 0.5541\n",
      "Epoch 13/25\n",
      "171/171 [==============================] - 0s 2ms/step - loss: 0.6333 - accuracy: 0.6608 - val_loss: 0.9228 - val_accuracy: 0.5811\n",
      "Epoch 14/25\n",
      "171/171 [==============================] - 0s 2ms/step - loss: 0.5728 - accuracy: 0.7427 - val_loss: 0.9013 - val_accuracy: 0.4595\n",
      "Epoch 15/25\n",
      "171/171 [==============================] - 0s 2ms/step - loss: 0.5385 - accuracy: 0.8713 - val_loss: 0.8929 - val_accuracy: 0.5405\n",
      "Epoch 16/25\n",
      "171/171 [==============================] - 0s 2ms/step - loss: 0.5085 - accuracy: 0.7836 - val_loss: 1.0755 - val_accuracy: 0.4595\n",
      "Epoch 17/25\n",
      "171/171 [==============================] - 0s 2ms/step - loss: 0.4975 - accuracy: 0.7076 - val_loss: 1.0489 - val_accuracy: 0.5541\n",
      "Epoch 18/25\n",
      "171/171 [==============================] - 0s 2ms/step - loss: 0.4961 - accuracy: 0.7135 - val_loss: 1.0695 - val_accuracy: 0.4459\n",
      "Epoch 19/25\n",
      "171/171 [==============================] - 0s 2ms/step - loss: 0.4649 - accuracy: 0.7544 - val_loss: 1.0341 - val_accuracy: 0.4459\n",
      "Epoch 20/25\n",
      "171/171 [==============================] - 0s 2ms/step - loss: 0.3996 - accuracy: 0.8713 - val_loss: 0.9980 - val_accuracy: 0.5000\n",
      "Epoch 21/25\n",
      "171/171 [==============================] - 0s 2ms/step - loss: 0.4566 - accuracy: 0.7544 - val_loss: 0.9182 - val_accuracy: 0.4730\n",
      "Epoch 22/25\n",
      "171/171 [==============================] - 0s 2ms/step - loss: 0.3775 - accuracy: 0.9532 - val_loss: 1.0151 - val_accuracy: 0.4459\n",
      "Epoch 23/25\n",
      "171/171 [==============================] - 0s 2ms/step - loss: 0.3928 - accuracy: 0.8304 - val_loss: 0.9942 - val_accuracy: 0.4595\n",
      "Epoch 24/25\n",
      "171/171 [==============================] - 0s 2ms/step - loss: 0.3442 - accuracy: 0.9474 - val_loss: 0.9570 - val_accuracy: 0.5270\n",
      "Epoch 25/25\n",
      "171/171 [==============================] - 0s 2ms/step - loss: 0.3168 - accuracy: 0.9532 - val_loss: 0.9862 - val_accuracy: 0.5405\n"
     ]
    },
    {
     "data": {
      "text/plain": [
       "<keras.callbacks.callbacks.History at 0x7fb233b6ebe0>"
      ]
     },
     "execution_count": 35,
     "metadata": {},
     "output_type": "execute_result"
    }
   ],
   "source": [
    "from keras.models import Sequential\n",
    "from keras.layers import Conv2D,MaxPool2D,Flatten,Dense\n",
    "\n",
    "model = Sequential()\n",
    "model.add(Conv2D(16, (2,2),input_shape=(128, 128, 3),activation='relu'))\n",
    "model.add(MaxPool2D(pool_size=(2,2)))\n",
    "model.add(Conv2D(32, (2,2),activation='relu'))\n",
    "model.add(MaxPool2D(pool_size=(2,2)))\n",
    "model.add(Flatten())\n",
    "model.add(Dense(128,activation='relu'))\n",
    "model.add(Dense(5,activation='softmax'))\n",
    "\n",
    "model.compile(loss='sparse_categorical_crossentropy',optimizer='adam',metrics=['accuracy'])\n",
    "\n",
    "batch_size = 128\n",
    "epochs = 25\n",
    "model.fit(x_train, y_train,\n",
    "          batch_size=batch_size,\n",
    "          epochs=epochs,\n",
    "          validation_data=(x_test, y_test))"
   ]
  },
  {
   "cell_type": "code",
   "execution_count": 31,
   "metadata": {},
   "outputs": [
    {
     "name": "stdout",
     "output_type": "stream",
     "text": [
      "2 ==> 2\n",
      "2 ==> 2\n",
      "0 ==> 0\n",
      "2 ==> 0\n",
      "0 ==> 0\n",
      "2 ==> 0\n",
      "2 ==> 2\n",
      "2 ==> 0\n",
      "2 ==> 2\n",
      "2 ==> 0\n"
     ]
    }
   ],
   "source": [
    "pred = model.predict_classes(x_test[:10])\n",
    "\n",
    "for i in range(len(pred)):\n",
    "    print(pred[i],'==>',y_test[i])"
   ]
  },
  {
   "cell_type": "code",
   "execution_count": 32,
   "metadata": {},
   "outputs": [
    {
     "ename": "AttributeError",
     "evalue": "'Sequential' object has no attribute 'plot_line'",
     "output_type": "error",
     "traceback": [
      "\u001b[0;31m---------------------------------------------------------------------------\u001b[0m",
      "\u001b[0;31mAttributeError\u001b[0m                            Traceback (most recent call last)",
      "\u001b[0;32m<ipython-input-32-5af8a9e6888c>\u001b[0m in \u001b[0;36m<module>\u001b[0;34m\u001b[0m\n\u001b[0;32m----> 1\u001b[0;31m \u001b[0mmodel\u001b[0m\u001b[0;34m.\u001b[0m\u001b[0mplot_line\u001b[0m\u001b[0;34m(\u001b[0m\u001b[0;34m\"accuracy\"\u001b[0m\u001b[0;34m)\u001b[0m\u001b[0;34m\u001b[0m\u001b[0;34m\u001b[0m\u001b[0m\n\u001b[0m",
      "\u001b[0;31mAttributeError\u001b[0m: 'Sequential' object has no attribute 'plot_line'"
     ]
    }
   ],
   "source": [
    "model.plot_line(\"accuracy\")"
   ]
  },
  {
   "cell_type": "code",
   "execution_count": null,
   "metadata": {},
   "outputs": [],
   "source": []
  }
 ],
 "metadata": {
  "kernelspec": {
   "display_name": "Python 3",
   "language": "python",
   "name": "python3"
  },
  "language_info": {
   "codemirror_mode": {
    "name": "ipython",
    "version": 3
   },
   "file_extension": ".py",
   "mimetype": "text/x-python",
   "name": "python",
   "nbconvert_exporter": "python",
   "pygments_lexer": "ipython3",
   "version": "3.7.3"
  }
 },
 "nbformat": 4,
 "nbformat_minor": 2
}
